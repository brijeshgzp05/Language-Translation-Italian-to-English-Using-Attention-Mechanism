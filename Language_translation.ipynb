{
 "cells": [
  {
   "cell_type": "markdown",
   "metadata": {
    "id": "fwPL0hIlGKoA"
   },
   "source": [
    "# <font color='red'>**Sequence to sequence implementation**</font>"
   ]
  },
  {
   "cell_type": "markdown",
   "metadata": {
    "id": "QyfZo8fmLOec"
   },
   "source": [
    "## Simple Encoder and Decoder\n",
    "Implement simple Encoder-Decoder model"
   ]
  },
  {
   "cell_type": "code",
   "execution_count": null,
   "metadata": {
    "colab": {
     "base_uri": "https://localhost:8080/"
    },
    "id": "fU80Ao-AGaob",
    "outputId": "43dd7a18-b337-4d6d-fd2f-c4ce7a5581d2"
   },
   "outputs": [],
   "source": [
    "import pandas as pd\n",
    "import numpy as  np\n",
    "import pandas as pd\n",
    "import nltk\n",
    "import re\n",
    "from tqdm import tqdm\n",
    "import tensorflow as tf\n",
    "from nltk.corpus import stopwords\n",
    "from prettytable import PrettyTable\n",
    "import pickle\n",
    "import matplotlib.pyplot as plt\n",
    "import seaborn as sb\n",
    "import warnings\n",
    "from tensorflow.keras.activations import *\n",
    "from tensorflow.keras.layers import *\n",
    "from tensorflow.keras.models import *\n",
    "from bs4 import BeautifulSoup\n",
    "from sklearn.model_selection import train_test_split\n",
    "from tensorflow.keras.preprocessing.text import Tokenizer\n",
    "from tensorflow.keras.preprocessing.sequence import pad_sequences\n",
    "warnings.filterwarnings(\"ignore\")"
   ]
  },
  {
   "cell_type": "code",
   "execution_count": null,
   "metadata": {
    "id": "IF-ypB1VY7pc",
    "scrolled": true
   },
   "outputs": [],
   "source": [
    "data = pd.read_csv('ita.txt', sep = '\\t', header = None, names = ['English', 'Italian', 'Info'], usecols = [0, 1])\n",
    "data.head()"
   ]
  },
  {
   "cell_type": "markdown",
   "metadata": {
    "id": "vmGWTdRmKRph"
   },
   "source": [
    "<font color='blue'>**Preprocess data**</font>"
   ]
  },
  {
   "cell_type": "code",
   "execution_count": null,
   "metadata": {
    "id": "9QqElB_nKZos"
   },
   "outputs": [],
   "source": [
    "stop_words = set(stopwords.words('english')) \n",
    "def preprocess(text_data):\n",
    "    def decontracted(phrase):\n",
    "        # specific\n",
    "        phrase = re.sub(r\"won't\", \"will not\", phrase)\n",
    "        phrase = re.sub(r\"can\\'t\", \"can not\", phrase)\n",
    "        # general\n",
    "        phrase = re.sub(r\"n\\'t\", \" not\", phrase)\n",
    "        phrase = re.sub(r\"\\'re\", \" are\", phrase)\n",
    "        phrase = re.sub(r\"\\'s\", \" is\", phrase)\n",
    "        phrase = re.sub(r\"\\'d\", \" would\", phrase)\n",
    "        phrase = re.sub(r\"\\'ll\", \" will\", phrase)\n",
    "        phrase = re.sub(r\"\\'t\", \" not\", phrase)\n",
    "        phrase = re.sub(r\"\\'ve\", \" have\", phrase)\n",
    "        phrase = re.sub(r\"\\'m\", \" am\", phrase)\n",
    "        return phrase\n",
    "    text = []\n",
    "    for sentance in tqdm(text_data):\n",
    "        sentance = re.sub(r\"http\\S+\", \"\", sentance)\n",
    "        sentance = BeautifulSoup(sentance, 'lxml').get_text()\n",
    "        sentance = decontracted(sentance)\n",
    "        sentance = re.sub(\"\\S*\\d\\S*\", \"\", sentance).strip()\n",
    "        sentance = re.sub('[^A-Za-z]+', ' ', sentance)\n",
    "        sentance = sentance.lower()\n",
    "        text.append(sentance.strip())\n",
    "    return np.array(text)"
   ]
  },
  {
   "cell_type": "code",
   "execution_count": null,
   "metadata": {
    "id": "R6-kLaUtY7pe",
    "scrolled": true
   },
   "outputs": [],
   "source": [
    "eng = preprocess(data.English.values)"
   ]
  },
  {
   "cell_type": "code",
   "execution_count": null,
   "metadata": {
    "id": "G8r8MOW-Y7pf"
   },
   "outputs": [],
   "source": [
    "ita = preprocess(data.Italian.values)"
   ]
  },
  {
   "cell_type": "code",
   "execution_count": null,
   "metadata": {
    "id": "_yHXCUslY7pf",
    "outputId": "b320ddbe-a0bb-4128-e0c1-eb5393de2357",
    "scrolled": true
   },
   "outputs": [
    {
     "data": {
      "text/html": [
       "<div>\n",
       "<style scoped>\n",
       "    .dataframe tbody tr th:only-of-type {\n",
       "        vertical-align: middle;\n",
       "    }\n",
       "\n",
       "    .dataframe tbody tr th {\n",
       "        vertical-align: top;\n",
       "    }\n",
       "\n",
       "    .dataframe thead th {\n",
       "        text-align: right;\n",
       "    }\n",
       "</style>\n",
       "<table border=\"1\" class=\"dataframe\">\n",
       "  <thead>\n",
       "    <tr style=\"text-align: right;\">\n",
       "      <th></th>\n",
       "      <th>English</th>\n",
       "      <th>Italian</th>\n",
       "    </tr>\n",
       "  </thead>\n",
       "  <tbody>\n",
       "    <tr>\n",
       "      <th>0</th>\n",
       "      <td>hi</td>\n",
       "      <td>ciao</td>\n",
       "    </tr>\n",
       "    <tr>\n",
       "      <th>1</th>\n",
       "      <td>run</td>\n",
       "      <td>corri</td>\n",
       "    </tr>\n",
       "  </tbody>\n",
       "</table>\n",
       "</div>"
      ],
      "text/plain": [
       "  English Italian\n",
       "0      hi    ciao\n",
       "1     run   corri"
      ]
     },
     "execution_count": 18,
     "metadata": {
      "tags": []
     },
     "output_type": "execute_result"
    }
   ],
   "source": [
    "df = pd.DataFrame()\n",
    "df['English']  = eng\n",
    "df['Italian'] = ita\n",
    "df.head(2)"
   ]
  },
  {
   "cell_type": "code",
   "execution_count": null,
   "metadata": {
    "id": "NpgY8yJsY7pf"
   },
   "outputs": [],
   "source": [
    "#df.to_csv('pre.csv')"
   ]
  },
  {
   "cell_type": "code",
   "execution_count": null,
   "metadata": {
    "colab": {
     "base_uri": "https://localhost:8080/",
     "height": 204
    },
    "id": "O3Q7-a6OY7pg",
    "outputId": "beb32375-9981-477e-ab74-762fd5f53e75"
   },
   "outputs": [
    {
     "data": {
      "text/html": [
       "<div>\n",
       "<style scoped>\n",
       "    .dataframe tbody tr th:only-of-type {\n",
       "        vertical-align: middle;\n",
       "    }\n",
       "\n",
       "    .dataframe tbody tr th {\n",
       "        vertical-align: top;\n",
       "    }\n",
       "\n",
       "    .dataframe thead th {\n",
       "        text-align: right;\n",
       "    }\n",
       "</style>\n",
       "<table border=\"1\" class=\"dataframe\">\n",
       "  <thead>\n",
       "    <tr style=\"text-align: right;\">\n",
       "      <th></th>\n",
       "      <th>Italian</th>\n",
       "      <th>English_inp</th>\n",
       "      <th>English_out</th>\n",
       "    </tr>\n",
       "  </thead>\n",
       "  <tbody>\n",
       "    <tr>\n",
       "      <th>0</th>\n",
       "      <td>ciao</td>\n",
       "      <td>&lt;start&gt; hi</td>\n",
       "      <td>hi &lt;end&gt;</td>\n",
       "    </tr>\n",
       "    <tr>\n",
       "      <th>1</th>\n",
       "      <td>corri</td>\n",
       "      <td>&lt;start&gt; run</td>\n",
       "      <td>run &lt;end&gt;</td>\n",
       "    </tr>\n",
       "    <tr>\n",
       "      <th>2</th>\n",
       "      <td>corra</td>\n",
       "      <td>&lt;start&gt; run</td>\n",
       "      <td>run &lt;end&gt;</td>\n",
       "    </tr>\n",
       "    <tr>\n",
       "      <th>3</th>\n",
       "      <td>correte</td>\n",
       "      <td>&lt;start&gt; run</td>\n",
       "      <td>run &lt;end&gt;</td>\n",
       "    </tr>\n",
       "    <tr>\n",
       "      <th>4</th>\n",
       "      <td>chi</td>\n",
       "      <td>&lt;start&gt; who</td>\n",
       "      <td>who &lt;end&gt;</td>\n",
       "    </tr>\n",
       "  </tbody>\n",
       "</table>\n",
       "</div>"
      ],
      "text/plain": [
       "   Italian  English_inp English_out\n",
       "0     ciao   <start> hi    hi <end>\n",
       "1    corri  <start> run   run <end>\n",
       "2    corra  <start> run   run <end>\n",
       "3  correte  <start> run   run <end>\n",
       "4      chi  <start> who   who <end>"
      ]
     },
     "execution_count": 4,
     "metadata": {
      "tags": []
     },
     "output_type": "execute_result"
    }
   ],
   "source": [
    "df = pd.read_csv('/content/drive/MyDrive/pre.csv').iloc[:,1:]\n",
    "\n",
    "df['Italian_len'] = df['Italian'].str.split().apply(len)\n",
    "df['English_len'] = df['English'].str.split().apply(len)\n",
    "\n",
    "df = df[df['Italian_len'] < 20]\n",
    "\n",
    "df['English_len'] = df['English'].str.split().apply(len)\n",
    "df = df[df['English_len'] < 20]\n",
    "\n",
    "df['English_inp'] = '<start> ' + df['English'].astype(str)\n",
    "df['English_out'] = df['English'].astype(str) + ' <end>'\n",
    "\n",
    "df = df.drop(['English','Italian_len','English_len'], axis=1)\n",
    "# only for the first sentance add a toke <end> so that we will have <end> in tokenizer\n",
    "df.head()"
   ]
  },
  {
   "cell_type": "code",
   "execution_count": null,
   "metadata": {
    "id": "SAxQkX-4Y7pg"
   },
   "outputs": [],
   "source": [
    "train, val = train_test_split(df, test_size = 0.2)"
   ]
  },
  {
   "cell_type": "code",
   "execution_count": null,
   "metadata": {
    "colab": {
     "base_uri": "https://localhost:8080/",
     "height": 204
    },
    "id": "Pq9Y7-LGY7pg",
    "outputId": "9ed4b63b-a407-45d3-ebcd-f83cfe4c3089"
   },
   "outputs": [
    {
     "data": {
      "text/html": [
       "<div>\n",
       "<style scoped>\n",
       "    .dataframe tbody tr th:only-of-type {\n",
       "        vertical-align: middle;\n",
       "    }\n",
       "\n",
       "    .dataframe tbody tr th {\n",
       "        vertical-align: top;\n",
       "    }\n",
       "\n",
       "    .dataframe thead th {\n",
       "        text-align: right;\n",
       "    }\n",
       "</style>\n",
       "<table border=\"1\" class=\"dataframe\">\n",
       "  <thead>\n",
       "    <tr style=\"text-align: right;\">\n",
       "      <th></th>\n",
       "      <th>Italian</th>\n",
       "      <th>English_inp</th>\n",
       "      <th>English_out</th>\n",
       "    </tr>\n",
       "  </thead>\n",
       "  <tbody>\n",
       "    <tr>\n",
       "      <th>300988</th>\n",
       "      <td>tutti tranne tom andarono alla festa</td>\n",
       "      <td>&lt;start&gt; everyone except tom went to the party ...</td>\n",
       "      <td>everyone except tom went to the party &lt;end&gt;</td>\n",
       "    </tr>\n",
       "    <tr>\n",
       "      <th>222628</th>\n",
       "      <td>ha molte conoscenze</td>\n",
       "      <td>&lt;start&gt; he has a lot of acquaintances</td>\n",
       "      <td>he has a lot of acquaintances &lt;end&gt;</td>\n",
       "    </tr>\n",
       "    <tr>\n",
       "      <th>228212</th>\n",
       "      <td>lei andata dal parrucchiere</td>\n",
       "      <td>&lt;start&gt; she went to the hairdresser is</td>\n",
       "      <td>she went to the hairdresser is &lt;end&gt;</td>\n",
       "    </tr>\n",
       "    <tr>\n",
       "      <th>293588</th>\n",
       "      <td>vorrebbe un altro po di pur</td>\n",
       "      <td>&lt;start&gt; would you like more mashed potatoes</td>\n",
       "      <td>would you like more mashed potatoes &lt;end&gt;</td>\n",
       "    </tr>\n",
       "    <tr>\n",
       "      <th>106890</th>\n",
       "      <td>causa un problema</td>\n",
       "      <td>&lt;start&gt; that causes a problem</td>\n",
       "      <td>that causes a problem &lt;end&gt;</td>\n",
       "    </tr>\n",
       "  </tbody>\n",
       "</table>\n",
       "</div>"
      ],
      "text/plain": [
       "                                     Italian  ...                                  English_out\n",
       "300988  tutti tranne tom andarono alla festa  ...  everyone except tom went to the party <end>\n",
       "222628                   ha molte conoscenze  ...          he has a lot of acquaintances <end>\n",
       "228212           lei andata dal parrucchiere  ...         she went to the hairdresser is <end>\n",
       "293588           vorrebbe un altro po di pur  ...    would you like more mashed potatoes <end>\n",
       "106890                     causa un problema  ...                  that causes a problem <end>\n",
       "\n",
       "[5 rows x 3 columns]"
      ]
     },
     "execution_count": 6,
     "metadata": {
      "tags": []
     },
     "output_type": "execute_result"
    }
   ],
   "source": [
    "train.iloc[0]['English_inp'] = str(train.iloc[0]['English_inp'])+' <end>'\n",
    "train.head()"
   ]
  },
  {
   "cell_type": "code",
   "execution_count": null,
   "metadata": {
    "id": "-34uW4fmY7ph"
   },
   "outputs": [],
   "source": [
    "tknizer_ita = Tokenizer(filters='!\"#$%&()*+,-./:;=?@[\\\\]^_`{|}~\\t\\n')\n",
    "tknizer_ita.fit_on_texts(train['Italian'].values)\n",
    "\n",
    "tknizer_eng = Tokenizer(filters='!\"#$%&()*+,-./:;=?@[\\\\]^_`{|}~\\t\\n')\n",
    "tknizer_eng.fit_on_texts(train['English_inp'].values)"
   ]
  },
  {
   "cell_type": "code",
   "execution_count": null,
   "metadata": {
    "colab": {
     "base_uri": "https://localhost:8080/"
    },
    "id": "w4zvLP5NY7ph",
    "outputId": "df02eab5-2570-4852-95b7-ddd5603c323f"
   },
   "outputs": [
    {
     "name": "stdout",
     "output_type": "stream",
     "text": [
      "12527\n",
      "24725\n"
     ]
    }
   ],
   "source": [
    "vocab_size_eng=len(tknizer_eng.word_index.keys())\n",
    "print(vocab_size_eng)\n",
    "vocab_size_ita=len(tknizer_ita.word_index.keys())\n",
    "print(vocab_size_ita)"
   ]
  },
  {
   "cell_type": "code",
   "execution_count": null,
   "metadata": {
    "id": "HZVB6evsY7ph"
   },
   "outputs": [],
   "source": [
    "class Dataset:\n",
    "    def __init__(self, data, tknizer_ita, tknizer_eng, max_len_ita, max_len_eng):\n",
    "        self.encoder_inps = data['Italian'].values\n",
    "        self.decoder_inps = data['English_inp'].values\n",
    "        self.decoder_outs = data['English_out'].values\n",
    "        self.tknizer_eng = tknizer_eng\n",
    "        self.tknizer_ita = tknizer_ita\n",
    "        self.max_len_eng = max_len_eng\n",
    "        self.max_len_ita = max_len_ita\n",
    "\n",
    "    def __getitem__(self, i):\n",
    "        self.encoder_seq = self.tknizer_ita.texts_to_sequences([self.encoder_inps[i]]) # need to pass list of values\n",
    "        self.decoder_inp_seq = self.tknizer_eng.texts_to_sequences([self.decoder_inps[i]])\n",
    "        self.decoder_out_seq = self.tknizer_eng.texts_to_sequences([self.decoder_outs[i]])\n",
    "\n",
    "        self.encoder_seq = pad_sequences(self.encoder_seq, maxlen=self.max_len_ita, dtype='int32', padding='post')\n",
    "        self.decoder_inp_seq = pad_sequences(self.decoder_inp_seq, maxlen=self.max_len_eng, dtype='int32', padding='post')\n",
    "        self.decoder_out_seq = pad_sequences(self.decoder_out_seq, maxlen=self.max_len_eng, dtype='int32', padding='post')\n",
    "        return self.encoder_seq, self.decoder_inp_seq, self.decoder_out_seq\n",
    "\n",
    "    def __len__(self): # model.fit_gen requires this function\n",
    "        return len(self.encoder_inps)\n",
    "\n",
    "    \n",
    "class Dataloder(tf.keras.utils.Sequence):    \n",
    "    def __init__(self, dataset, batch_size=1):\n",
    "        self.dataset = dataset\n",
    "        self.batch_size = batch_size\n",
    "        self.indexes = np.arange(len(self.dataset.encoder_inps))\n",
    "\n",
    "\n",
    "    def __getitem__(self, i):\n",
    "        start = i * self.batch_size\n",
    "        stop = (i + 1) * self.batch_size\n",
    "        data = []\n",
    "        for j in range(start, stop):\n",
    "            data.append(self.dataset[j])\n",
    "\n",
    "        batch = [np.squeeze(np.stack(samples, axis=1), axis=0) for samples in zip(*data)]\n",
    "        # we are creating data like ([italian, english_inp], english_out) these are already converted into seq\n",
    "        return tuple([[batch[0],batch[1]],batch[2]])\n",
    "\n",
    "    def __len__(self):  # model.fit_gen requires this function\n",
    "        return len(self.indexes) // self.batch_size\n",
    "\n",
    "    def on_epoch_end(self):\n",
    "        self.indexes = np.random.permutation(self.indexes)"
   ]
  },
  {
   "cell_type": "markdown",
   "metadata": {
    "id": "S8RDrP4xKabR"
   },
   "source": [
    "## <font color='blue'>**Implement custom encoder decoder**</font>"
   ]
  },
  {
   "cell_type": "markdown",
   "metadata": {
    "id": "A45uc0JILMlV"
   },
   "source": [
    "<font color='blue'>**Encoder**</font>"
   ]
  },
  {
   "cell_type": "code",
   "execution_count": null,
   "metadata": {
    "id": "9cex2XfCLOew"
   },
   "outputs": [],
   "source": [
    "class Encoder(Model):\n",
    "    \n",
    "    def __init__(self, inp_vocab_size, embedding_size, lstm_size, input_length):\n",
    "        \n",
    "        super().__init__()\n",
    "        self.inp_vocab_size = inp_vocab_size\n",
    "        self.embedding_size = embedding_size\n",
    "        self.input_length = input_length\n",
    "        self.lstm_size = lstm_size\n",
    "        self.embed = Embedding(input_dim = self.inp_vocab_size, output_dim = self.embedding_size,\n",
    "                               input_length = self.input_length, name=\"Encoder_Embedding\")\n",
    "        self.lstm = LSTM(units = self.lstm_size, return_sequences = True, return_state = True, name=\"Encoder_LSTM\")\n",
    "        \n",
    "    def call(self, input_sequence, states = None):\n",
    "          \n",
    "        embed_out = self.embed(input_sequence)\n",
    "        lstm_out, lstm_h, lstm_c = self.lstm(embed_out, states)\n",
    "        return lstm_out, lstm_h, lstm_c\n",
    "\n",
    "    def initialize_states(self,batch_size):\n",
    "        states_h = tf.keras.backend.zeros((batch_size, self.lstm_size))\n",
    "        state_c = tf.keras.backend.zeros((batch_size, self.lstm_size))\n",
    "        return states_h, state_c   "
   ]
  },
  {
   "cell_type": "code",
   "execution_count": null,
   "metadata": {
    "id": "x1ES1-sJLOe4"
   },
   "outputs": [],
   "source": [
    "class Decoder(tf.keras.Model):\n",
    "    def __init__(self,out_vocab_size,embedding_size,lstm_size,input_length):\n",
    "        super().__init__()\n",
    "        self.inp_vocab_size = out_vocab_size\n",
    "        self.embedding_size = embedding_size\n",
    "        self.input_length = input_length\n",
    "        self.lstm_size = lstm_size\n",
    "        self.embed = Embedding(input_dim = self.inp_vocab_size, output_dim = self.embedding_size,\n",
    "                               input_length = self.input_length, name=\"Decoder_Embedding\")\n",
    "        self.lstm = LSTM(units = self.lstm_size, return_sequences = True, return_state = True, name=\"Decoder_LSTM\")\n",
    "  \n",
    "    def call(self, output_sequence, initial_states):\n",
    "        embed_out = self.embed(output_sequence)\n",
    "        lstm_out, lstm_h, lstm_c = self.lstm(embed_out, initial_states)\n",
    "        return lstm_out, lstm_h, lstm_c            "
   ]
  },
  {
   "cell_type": "code",
   "execution_count": null,
   "metadata": {
    "id": "BXrIj4scLOe_"
   },
   "outputs": [],
   "source": [
    "class Encoder_decoder(tf.keras.Model):\n",
    "    def __init__(self, encoder_inputs_length, decoder_inputs_length, output_vocab_size):\n",
    "        super().__init__()\n",
    "        self.encoder = Encoder(inp_vocab_size = vocab_size_ita+1, embedding_size = 300, input_length = encoder_inputs_length,\n",
    "                               lstm_size = 512)\n",
    "        self.decoder = Decoder(out_vocab_size = vocab_size_eng+1, embedding_size = 300, input_length = decoder_inputs_length,\n",
    "                               lstm_size = 512)\n",
    "        self.dense = Dense(output_vocab_size, activation = 'softmax')\n",
    "    \n",
    "    def call(self, data):\n",
    "        inp, targ = data[0], data[1]\n",
    "        enc_out, state_h, state_c = self.encoder(inp)\n",
    "        dec_out, _, _ = self.decoder(targ, [state_h, state_c])\n",
    "        out = self.dense(dec_out)\n",
    "        return out      "
   ]
  },
  {
   "cell_type": "code",
   "execution_count": null,
   "metadata": {
    "colab": {
     "base_uri": "https://localhost:8080/"
    },
    "id": "FeKqygCJY7pm",
    "outputId": "5ef3506f-7828-484c-afd0-8675a965886c",
    "scrolled": true
   },
   "outputs": [
    {
     "name": "stdout",
     "output_type": "stream",
     "text": [
      "(1024, 20) (1024, 20) (1024, 20)\n"
     ]
    }
   ],
   "source": [
    "bs = 1024\n",
    "train_dataset = Dataset(train, tknizer_ita, tknizer_eng, 20, 20)\n",
    "test_dataset  = Dataset(val, tknizer_ita, tknizer_eng, 20, 20)\n",
    "\n",
    "train_dataloader = Dataloder(train_dataset, batch_size=bs)\n",
    "test_dataloader = Dataloder(test_dataset, batch_size=bs)\n",
    "\n",
    "print(train_dataloader[0][0][0].shape, train_dataloader[0][0][1].shape, train_dataloader[0][1].shape)"
   ]
  },
  {
   "cell_type": "code",
   "execution_count": null,
   "metadata": {
    "id": "kcL61dJXLOfB",
    "scrolled": true
   },
   "outputs": [],
   "source": [
    "# Create an object of encoder_decoder Model class, \n",
    "# Compile the model and fit the model\n",
    "model_1 = Encoder_decoder(encoder_inputs_length = 20, decoder_inputs_length = 20, output_vocab_size = vocab_size_eng)          \n",
    "model_1.compile('adam', loss = 'sparse_categorical_crossentropy')"
   ]
  },
  {
   "cell_type": "code",
   "execution_count": null,
   "metadata": {
    "colab": {
     "base_uri": "https://localhost:8080/"
    },
    "id": "cj_Gr8ulY7pn",
    "outputId": "e8acd175-55a5-4112-cc68-5ea481276ca2",
    "scrolled": true
   },
   "outputs": [
    {
     "name": "stdout",
     "output_type": "stream",
     "text": [
      "Epoch 1/50\n",
      "150/150 [==============================] - 120s 797ms/step - loss: 2.2673 - val_loss: 1.7244\n",
      "Epoch 2/50\n",
      "150/150 [==============================] - 128s 854ms/step - loss: 1.6476 - val_loss: 1.5446\n",
      "Epoch 3/50\n",
      "150/150 [==============================] - 127s 844ms/step - loss: 1.4527 - val_loss: 1.3673\n",
      "Epoch 4/50\n",
      "150/150 [==============================] - 119s 792ms/step - loss: 1.3041 - val_loss: 1.2466\n",
      "Epoch 5/50\n",
      "150/150 [==============================] - 126s 843ms/step - loss: 1.1762 - val_loss: 1.1138\n",
      "Epoch 6/50\n",
      "150/150 [==============================] - 119s 792ms/step - loss: 1.0524 - val_loss: 1.0031\n",
      "Epoch 7/50\n",
      "150/150 [==============================] - 119s 791ms/step - loss: 0.9432 - val_loss: 0.9047\n",
      "Epoch 8/50\n",
      "150/150 [==============================] - 127s 844ms/step - loss: 0.8402 - val_loss: 0.8099\n",
      "Epoch 9/50\n",
      "150/150 [==============================] - 127s 846ms/step - loss: 0.7431 - val_loss: 0.7169\n",
      "Epoch 10/50\n",
      "150/150 [==============================] - 119s 796ms/step - loss: 0.6457 - val_loss: 0.6290\n",
      "Epoch 11/50\n",
      "150/150 [==============================] - 127s 846ms/step - loss: 0.5516 - val_loss: 0.5496\n",
      "Epoch 12/50\n",
      "150/150 [==============================] - 126s 843ms/step - loss: 0.4700 - val_loss: 0.4805\n",
      "Epoch 13/50\n",
      "150/150 [==============================] - 127s 847ms/step - loss: 0.3989 - val_loss: 0.4249\n",
      "Epoch 14/50\n",
      "150/150 [==============================] - 127s 844ms/step - loss: 0.3454 - val_loss: 0.3777\n",
      "Epoch 15/50\n",
      "150/150 [==============================] - 127s 846ms/step - loss: 0.2939 - val_loss: 0.3434\n",
      "Epoch 16/50\n",
      "150/150 [==============================] - 126s 841ms/step - loss: 0.2581 - val_loss: 0.3157\n",
      "Epoch 17/50\n",
      "150/150 [==============================] - 126s 841ms/step - loss: 0.2290 - val_loss: 0.2919\n",
      "Epoch 18/50\n",
      "150/150 [==============================] - 119s 791ms/step - loss: 0.1991 - val_loss: 0.2742\n",
      "Epoch 19/50\n",
      "150/150 [==============================] - 127s 845ms/step - loss: 0.1794 - val_loss: 0.2598\n",
      "Epoch 20/50\n",
      "150/150 [==============================] - 119s 794ms/step - loss: 0.1602 - val_loss: 0.2471\n",
      "Epoch 21/50\n",
      "150/150 [==============================] - 126s 843ms/step - loss: 0.1447 - val_loss: 0.2372\n",
      "Epoch 22/50\n",
      "150/150 [==============================] - 126s 841ms/step - loss: 0.1286 - val_loss: 0.2277\n",
      "Epoch 23/50\n",
      "150/150 [==============================] - 119s 792ms/step - loss: 0.1200 - val_loss: 0.2214\n",
      "Epoch 24/50\n",
      "150/150 [==============================] - 118s 788ms/step - loss: 0.1091 - val_loss: 0.2149\n",
      "Epoch 25/50\n",
      "150/150 [==============================] - 127s 845ms/step - loss: 0.1012 - val_loss: 0.2088\n",
      "Epoch 26/50\n",
      "150/150 [==============================] - 126s 842ms/step - loss: 0.0919 - val_loss: 0.2041\n",
      "Epoch 27/50\n",
      "150/150 [==============================] - 127s 848ms/step - loss: 0.0826 - val_loss: 0.2007\n",
      "Epoch 28/50\n",
      "150/150 [==============================] - 127s 844ms/step - loss: 0.0805 - val_loss: 0.1966\n",
      "Epoch 29/50\n",
      "150/150 [==============================] - 118s 789ms/step - loss: 0.0730 - val_loss: 0.1941\n",
      "Epoch 30/50\n",
      "150/150 [==============================] - 127s 845ms/step - loss: 0.0686 - val_loss: 0.1913\n",
      "Epoch 31/50\n",
      "150/150 [==============================] - 119s 794ms/step - loss: 0.0620 - val_loss: 0.1892\n",
      "Epoch 32/50\n",
      "150/150 [==============================] - 119s 795ms/step - loss: 0.0588 - val_loss: 0.1884\n",
      "Epoch 33/50\n",
      "150/150 [==============================] - 119s 790ms/step - loss: 0.0554 - val_loss: 0.1855\n",
      "Epoch 34/50\n",
      "150/150 [==============================] - 127s 847ms/step - loss: 0.0502 - val_loss: 0.1854\n",
      "Epoch 35/50\n",
      "150/150 [==============================] - 127s 844ms/step - loss: 0.0477 - val_loss: 0.1839\n",
      "Epoch 36/50\n",
      "150/150 [==============================] - 127s 845ms/step - loss: 0.0438 - val_loss: 0.1837\n",
      "Epoch 37/50\n",
      "150/150 [==============================] - 126s 841ms/step - loss: 0.0418 - val_loss: 0.1840\n"
     ]
    },
    {
     "data": {
      "text/plain": [
       "<tensorflow.python.keras.callbacks.History at 0x7f4d2e554510>"
      ]
     },
     "execution_count": 53,
     "metadata": {
      "tags": []
     },
     "output_type": "execute_result"
    }
   ],
   "source": [
    "early = tf.keras.callbacks.EarlyStopping(patience = 1, restore_best_weights = True)\n",
    "model_1.fit(train_dataloader, epochs = 50, validation_data = (test_dataloader), steps_per_epoch = 150, validation_steps = 40, callbacks = [early])"
   ]
  },
  {
   "cell_type": "code",
   "execution_count": null,
   "metadata": {
    "colab": {
     "base_uri": "https://localhost:8080/",
     "height": 320
    },
    "id": "JRAzC1E3vz67",
    "outputId": "cfdd72ab-673e-4fff-aced-243b5daaa553"
   },
   "outputs": [
    {
     "data": {
      "image/png": "[encoded data removed]",
      "text/plain": [
       "<Figure size 576x360 with 1 Axes>"
      ]
     },
     "metadata": {
      "needs_background": "light",
      "tags": []
     },
     "output_type": "display_data"
    }
   ],
   "source": [
    "plt.figure(figsize = (8,5))\n",
    "plt.plot(np.array(model_1.history.epoch)+1, model_1.history.history['loss'])\n",
    "plt.plot(np.array(model_1.history.epoch)+1, model_1.history.history['val_loss'])\n",
    "plt.show()"
   ]
  },
  {
   "cell_type": "code",
   "execution_count": null,
   "metadata": {
    "id": "SkARSlZgLOfE",
    "scrolled": false
   },
   "outputs": [],
   "source": [
    "def predict(input_sentence):\n",
    "    out_text = ''\n",
    "    seq = tknizer_ita.texts_to_sequences([input_sentence]) \n",
    "    pad = pad_sequences(seq, maxlen = 20, dtype='int32', padding='post')\n",
    "    enc_out, state_h, state_c = model_1.encoder(pad)\n",
    "    intial = np.zeros((1,1), dtype = 'float32')\n",
    "    intial[0, 0] = tknizer_eng.word_index['<start>']\n",
    "    states = [state_h, state_c]\n",
    "    \n",
    "    for i in range(20):\n",
    "        predicted_out, state_h, state_c = model_1.decoder(intial, initial_states = states)\n",
    "        out = model_1.dense(predicted_out).numpy()\n",
    "        out = out.reshape(out.shape[-1])\n",
    "        states = [state_h, state_c] # Update State\n",
    "        out = np.argmax(out)\n",
    "        intial = np.zeros((1, 1), dtype = 'float32')\n",
    "        if tknizer_eng.index_word[out] == '<end>' or i == 20:\n",
    "            break\n",
    "        intial[0, 0] = out #Update decoder input\n",
    "        out_text += tknizer_eng.index_word[out] + ' '\n",
    "    return out_text"
   ]
  },
  {
   "cell_type": "code",
   "execution_count": null,
   "metadata": {
    "colab": {
     "base_uri": "https://localhost:8080/",
     "height": 376
    },
    "id": "ECbiJHlgY7po",
    "outputId": "b99a454a-6195-4d96-eec3-b813cf0c1663",
    "scrolled": true
   },
   "outputs": [
    {
     "name": "stderr",
     "output_type": "stream",
     "text": [
      "100%|██████████| 10/10 [00:00<00:00, 27.09it/s]\n"
     ]
    },
    {
     "data": {
      "text/html": [
       "<div>\n",
       "<style scoped>\n",
       "    .dataframe tbody tr th:only-of-type {\n",
       "        vertical-align: middle;\n",
       "    }\n",
       "\n",
       "    .dataframe tbody tr th {\n",
       "        vertical-align: top;\n",
       "    }\n",
       "\n",
       "    .dataframe thead th {\n",
       "        text-align: right;\n",
       "    }\n",
       "</style>\n",
       "<table border=\"1\" class=\"dataframe\">\n",
       "  <thead>\n",
       "    <tr style=\"text-align: right;\">\n",
       "      <th></th>\n",
       "      <th>Input</th>\n",
       "      <th>Ground Truth</th>\n",
       "      <th>Predicted</th>\n",
       "      <th>Bleu Score</th>\n",
       "    </tr>\n",
       "  </thead>\n",
       "  <tbody>\n",
       "    <tr>\n",
       "      <th>0</th>\n",
       "      <td>hai gi fatto i compiti</td>\n",
       "      <td>did you already do your homework</td>\n",
       "      <td>have you done your homework yet</td>\n",
       "      <td>0.562341</td>\n",
       "    </tr>\n",
       "    <tr>\n",
       "      <th>1</th>\n",
       "      <td>tom ha proposto delle soluzioni</td>\n",
       "      <td>did tom propose any solutions</td>\n",
       "      <td>tom is considered the wheel</td>\n",
       "      <td>0.668740</td>\n",
       "    </tr>\n",
       "    <tr>\n",
       "      <th>2</th>\n",
       "      <td>pensa che durer a lungo</td>\n",
       "      <td>do you think it will last long</td>\n",
       "      <td>do you think it will last long</td>\n",
       "      <td>1.000000</td>\n",
       "    </tr>\n",
       "    <tr>\n",
       "      <th>3</th>\n",
       "      <td>controlla di nuovo la settimana prossima</td>\n",
       "      <td>check back next week</td>\n",
       "      <td>check next week now</td>\n",
       "      <td>0.707107</td>\n",
       "    </tr>\n",
       "    <tr>\n",
       "      <th>4</th>\n",
       "      <td>cosa te lo fa credere</td>\n",
       "      <td>what led you to believe so</td>\n",
       "      <td>what makes you believe that</td>\n",
       "      <td>0.720575</td>\n",
       "    </tr>\n",
       "    <tr>\n",
       "      <th>5</th>\n",
       "      <td>ci sar della resistenza</td>\n",
       "      <td>will there be resistance</td>\n",
       "      <td>there will be there by</td>\n",
       "      <td>0.880112</td>\n",
       "    </tr>\n",
       "    <tr>\n",
       "      <th>6</th>\n",
       "      <td>pensavo fossi sposata</td>\n",
       "      <td>i thought you were married</td>\n",
       "      <td>i thought you were married</td>\n",
       "      <td>1.000000</td>\n",
       "    </tr>\n",
       "    <tr>\n",
       "      <th>7</th>\n",
       "      <td>noi abbiamo fatto del nostro meglio per aiutar...</td>\n",
       "      <td>we tried our best to help tom</td>\n",
       "      <td>we did our best to help tom</td>\n",
       "      <td>0.643459</td>\n",
       "    </tr>\n",
       "    <tr>\n",
       "      <th>8</th>\n",
       "      <td>tom chi sta visitando</td>\n",
       "      <td>who is tom visiting</td>\n",
       "      <td>tom is visiting</td>\n",
       "      <td>0.716531</td>\n",
       "    </tr>\n",
       "    <tr>\n",
       "      <th>9</th>\n",
       "      <td>siamo andati a roma dove siamo rimasti una set...</td>\n",
       "      <td>we went to rome where we stayed a week</td>\n",
       "      <td>we went to rome for this weekend</td>\n",
       "      <td>0.308958</td>\n",
       "    </tr>\n",
       "  </tbody>\n",
       "</table>\n",
       "</div>"
      ],
      "text/plain": [
       "                                               Input  ... Bleu Score\n",
       "0                             hai gi fatto i compiti  ...   0.562341\n",
       "1                    tom ha proposto delle soluzioni  ...   0.668740\n",
       "2                            pensa che durer a lungo  ...   1.000000\n",
       "3           controlla di nuovo la settimana prossima  ...   0.707107\n",
       "4                              cosa te lo fa credere  ...   0.720575\n",
       "5                            ci sar della resistenza  ...   0.880112\n",
       "6                              pensavo fossi sposata  ...   1.000000\n",
       "7  noi abbiamo fatto del nostro meglio per aiutar...  ...   0.643459\n",
       "8                              tom chi sta visitando  ...   0.716531\n",
       "9  siamo andati a roma dove siamo rimasti una set...  ...   0.308958\n",
       "\n",
       "[10 rows x 4 columns]"
      ]
     },
     "execution_count": 56,
     "metadata": {
      "tags": []
     },
     "output_type": "execute_result"
    }
   ],
   "source": [
    "res = pd.DataFrame()\n",
    "res['Input'] = 0\n",
    "res['Ground Truth'] = 0\n",
    "res['Predicted'] = 0\n",
    "res['Bleu Score'] = 0\n",
    "m = np.random.randint(0, len(val), 10)\n",
    "for n in tqdm(m):\n",
    "    query = val.Italian.values[n]\n",
    "    pred = predict(query)\n",
    "    ground = val.English_inp.values[n]\n",
    "    ground_ = nltk.tokenize.casual.casual_tokenize(ground)\n",
    "    pred_ = nltk.tokenize.casual.casual_tokenize(pred)\n",
    "    bleu = nltk.translate.bleu_score.sentence_bleu([ground_], pred_) \n",
    "    res = res.append({'Input' : query, 'Ground Truth': ground, 'Predicted' : pred, 'Bleu Score' : bleu},ignore_index= True)\n",
    "res"
   ]
  },
  {
   "cell_type": "code",
   "execution_count": null,
   "metadata": {
    "colab": {
     "base_uri": "https://localhost:8080/"
    },
    "id": "5yTQzjZlY7pp",
    "outputId": "138f4135-f0e9-417f-847e-9c53fee99ff8",
    "scrolled": true
   },
   "outputs": [
    {
     "name": "stdout",
     "output_type": "stream",
     "text": [
      "Average Bleu Score:  0.7207822465459544\n"
     ]
    }
   ],
   "source": [
    "model_1_bleu_score = np.mean(res['Bleu Score'].values)\n",
    "print('Average Bleu Score: ', model_1_bleu_score)"
   ]
  },
  {
   "cell_type": "markdown",
   "metadata": {
    "id": "CxWFDxZXLOfJ"
   },
   "source": [
    " "
   ]
  },
  {
   "cell_type": "markdown",
   "metadata": {
    "id": "yZhX3K9GLOfJ"
   },
   "source": [
    "## Including Attention mechanism"
   ]
  },
  {
   "cell_type": "markdown",
   "metadata": {
    "id": "PU4KIsGxLOfK"
   },
   "source": [
    "### <font color='blue'>**Implement custom encoder decoder and attention layers with dot product mechanism**</font>"
   ]
  },
  {
   "cell_type": "markdown",
   "metadata": {
    "id": "TMm3ADQDLOfK"
   },
   "source": [
    "<font color='blue'>**Encoder**</font>"
   ]
  },
  {
   "cell_type": "code",
   "execution_count": null,
   "metadata": {
    "id": "Lx_5NA24KzRp"
   },
   "outputs": [],
   "source": [
    "class Encoder(tf.keras.Model):\n",
    "    def __init__(self,inp_vocab_size,embedding_size,lstm_size,input_length):\n",
    "        super().__init__()\n",
    "        self.inp_vocab_size = inp_vocab_size\n",
    "        self.embedding_size = embedding_size\n",
    "        self.input_length = input_length\n",
    "        self.lstm_size = lstm_size\n",
    "        self.embed = Embedding(input_dim = self.inp_vocab_size, output_dim = self.embedding_size,\n",
    "                               input_length = self.input_length, name=\"Encoder_Embedding\")\n",
    "        self.lstm = LSTM(units = self.lstm_size, return_sequences = True, return_state = True, name=\"Encoder_LSTM\")\n",
    "\n",
    "    def call(self,input_sequence,states=None):\n",
    "        embed_out = self.embed(input_sequence)\n",
    "        lstm_out, lstm_h, lstm_c = self.lstm(embed_out, states)\n",
    "        return lstm_out, lstm_h, lstm_c\n",
    "        \n",
    "    def initialize_states(self,batch_size):\n",
    "        states_h = tf.keras.backend.zeros((batch_size, self.lstm_size))\n",
    "        state_c = tf.keras.backend.zeros((batch_size, self.lstm_size))\n",
    "        return states_h, state_c   "
   ]
  },
  {
   "cell_type": "markdown",
   "metadata": {
    "id": "lXn278lhLYRM"
   },
   "source": [
    "<font color='blue'>**Attention**</font>"
   ]
  },
  {
   "cell_type": "code",
   "execution_count": null,
   "metadata": {
    "id": "ab5SNdPZLlur"
   },
   "outputs": [],
   "source": [
    "class Attention(tf.keras.layers.Layer):\n",
    "    def __init__(self,scoring_function, att_units):\n",
    "        self.scoring_function = scoring_function\n",
    "        self.att_units = att_units\n",
    "        self.softmax = Activation('softmax')\n",
    "    \n",
    "        if self.scoring_function=='dot':\n",
    "            pass\n",
    "        if scoring_function == 'general':\n",
    "            self.w = Dense(self.att_units)\n",
    "  \n",
    "    def call(self, decoder_hidden_state, encoder_output): \n",
    "        \n",
    "        if self.scoring_function == 'dot':\n",
    "            decoder_hidden_state = tf.expand_dims(decoder_hidden_state,2)\n",
    "            score = tf.matmul(encoder_output,decoder_hidden_state)\n",
    "            \n",
    "        elif self.scoring_function == 'general':\n",
    "            decoder_hidden_state = tf.expand_dims(decoder_hidden_state, 2)\n",
    "            score = tf.matmul(self.w(encoder_output), decoder_hidden_state)\n",
    "            \n",
    "        alpha = self.softmax(score, axis = 1)\n",
    "        context_vec = alpha * encoder_output\n",
    "        context_vec = tf.reduce_sum(context_vec, axis = 1)\n",
    "        return context_vec, alpha"
   ]
  },
  {
   "cell_type": "markdown",
   "metadata": {
    "id": "ic-FNEbfL2DN"
   },
   "source": [
    "<font color='blue'>**OneStepDecoder**</font>"
   ]
  },
  {
   "cell_type": "code",
   "execution_count": null,
   "metadata": {
    "id": "Kc8m7lmOL097"
   },
   "outputs": [],
   "source": [
    "class One_Step_Decoder(tf.keras.Model):\n",
    "    def __init__(self,tar_vocab_size, embedding_dim, input_length, dec_units ,score_fun ,att_units):\n",
    "        super().__init__()\n",
    "        self.tar_vocab_size = tar_vocab_size\n",
    "        self.embedding_dim = embedding_dim\n",
    "        self.input_length = input_length\n",
    "        self.score_fun = score_fun\n",
    "        self.att_units = att_units\n",
    "        self.dec_units = dec_units\n",
    "        self.embed = Embedding(input_dim = self.tar_vocab_size, output_dim = self.embedding_dim,\n",
    "                               input_length = self.input_length)\n",
    "        self.lstm = LSTM(units = self.dec_units, return_sequences = True, return_state = True)\n",
    "        self.attention = Attention(self.score_fun, self.att_units)\n",
    "        self.dense = Dense(self.tar_vocab_size)\n",
    "        \n",
    "    def call(self,input_to_decoder, encoder_output, state_h,state_c):\n",
    "        emb = self.embed(input_to_decoder)\n",
    "        context_vector, attention_weights = self.attention(state_h, encoder_output)\n",
    "        dec_inp = tf.concat([tf.expand_dims(context_vector, 1), emb], -1)\n",
    "        lstm_out, state_h, state_c = self.lstm(dec_inp, [state_h, state_c])\n",
    "        output = self.dense(lstm_out)\n",
    "        output = tf.squeeze(output, 1)\n",
    "        return output, state_h, state_c, attention_weights, context_vector"
   ]
  },
  {
   "cell_type": "markdown",
   "metadata": {
    "id": "6FHrurjUMGAi"
   },
   "source": [
    "<font color='blue'>**Decoder**</font>"
   ]
  },
  {
   "cell_type": "code",
   "execution_count": null,
   "metadata": {
    "id": "NV-x31rj6Hc4"
   },
   "outputs": [],
   "source": [
    "class Decoder(tf.keras.Model):\n",
    "    def __init__(self,out_vocab_size, embedding_dim, input_length, dec_units ,score_fun ,att_units):\n",
    "        super().__init__()\n",
    "        self.out_vocab_size = out_vocab_size\n",
    "        self.embedding_dim = embedding_dim\n",
    "        self.input_length = input_length\n",
    "        self.score_fun = score_fun\n",
    "        self.att_units = att_units\n",
    "        self.dec_units = dec_units\n",
    "        self.one_step = One_Step_Decoder(self.out_vocab_size, self.embedding_dim, self.input_length, self.dec_units ,\n",
    "                                         self.score_fun ,self.att_units)\n",
    "\n",
    "    def call(self, input_to_decoder, encoder_output, decoder_hidden_state, decoder_cell_state):\n",
    "        all_outputs = tf.TensorArray(tf.float32, size = tf.shape(input_to_decoder)[1])\n",
    "        for n in range(tf.shape(input_to_decoder)[1]):\n",
    "            output, decoder_hidden_state, decoder_cell_state, attention_weights, context_vector = self.one_step(input_to_decoder[:,n:n+1],\n",
    "                                                                                        encoder_output, \n",
    "                                                                                        decoder_hidden_state, \n",
    "                                                                                        decoder_cell_state)\n",
    "            all_outputs = all_outputs.write(n, output)\n",
    "        all_outputs = tf.transpose(all_outputs.stack(), [1, 0, 2])            \n",
    "\n",
    "        return all_outputs "
   ]
  },
  {
   "cell_type": "markdown",
   "metadata": {
    "id": "fC1T1EOoMTqC"
   },
   "source": [
    "<font color='blue'>**Encoder Decoder model**</font>"
   ]
  },
  {
   "cell_type": "code",
   "execution_count": null,
   "metadata": {
    "id": "FfqBIe20MT3D"
   },
   "outputs": [],
   "source": [
    "class encoder_decoder(tf.keras.Model):\n",
    "    def __init__(self, score_fun, att_units, batch_size, embed_size, lstm_size):\n",
    "        \n",
    "        self.encoder = Encoder(inp_vocab_size = vocab_size_ita+1,embedding_size = embed_size, lstm_size = lstm_size,\n",
    "                               input_length = 20)\n",
    "        self.decoder = Decoder(out_vocab_size = vocab_size_eng+1, embedding_dim = embed_size, input_length = 20,\n",
    "                               dec_units = lstm_size, score_fun = score_fun, att_units = att_units)\n",
    "        self.att_units = att_units\n",
    "        self.batch_size = batch_size\n",
    "    \n",
    "    def call(self, data):\n",
    "        \n",
    "        inp, targ = data[0], data[1]\n",
    "        state_h, state_c = self.encoder.initialize_states(self.batch_size)\n",
    "        enc_out, state_h, state_c = self.encoder(inp, [state_h, state_c])\n",
    "        dec_out = self.decoder(targ, enc_out, state_h, state_c)\n",
    "\n",
    "        return dec_out "
   ]
  },
  {
   "cell_type": "markdown",
   "metadata": {
    "id": "WVRxB-FDMJWL"
   },
   "source": [
    "<font color='blue'>**Custom loss function**</font>"
   ]
  },
  {
   "cell_type": "code",
   "execution_count": null,
   "metadata": {
    "id": "QY_3izrXMs8y"
   },
   "outputs": [],
   "source": [
    "def custom_lossfunction(targets, logits):\n",
    "    loss_object = tf.keras.losses.SparseCategoricalCrossentropy(from_logits=True, reduction='none')\n",
    "    mask = tf.math.logical_not(tf.math.equal(targets, 0))\n",
    "    loss_ = loss_object(targets, logits)\n",
    "    mask = tf.cast(mask, dtype = loss_.dtype)\n",
    "    loss_ *= mask\n",
    "    return tf.reduce_mean(loss_)"
   ]
  },
  {
   "cell_type": "markdown",
   "metadata": {
    "id": "2QlbWAqNNlqe"
   },
   "source": [
    "<font color='blue'>**Training**</font>"
   ]
  },
  {
   "cell_type": "code",
   "execution_count": null,
   "metadata": {
    "colab": {
     "base_uri": "https://localhost:8080/"
    },
    "id": "Y6NLZ_znY7pv",
    "outputId": "edc19b88-2002-4765-9316-18988f17940b",
    "scrolled": false
   },
   "outputs": [
    {
     "name": "stdout",
     "output_type": "stream",
     "text": [
      "(1024, 20) (1024, 20) (1024, 20)\n"
     ]
    }
   ],
   "source": [
    "bs = 1024\n",
    "train_dataset = Dataset(train, tknizer_ita, tknizer_eng, 20, 20)\n",
    "test_dataset  = Dataset(val, tknizer_ita, tknizer_eng, 20, 20)\n",
    "\n",
    "train_dataloader = Dataloder(train_dataset, batch_size = bs)\n",
    "test_dataloader = Dataloder(test_dataset, batch_size = bs)\n",
    "\n",
    "print(train_dataloader[0][0][0].shape, train_dataloader[0][0][1].shape, train_dataloader[0][1].shape)"
   ]
  },
  {
   "cell_type": "code",
   "execution_count": null,
   "metadata": {
    "id": "fgyWwZWeMxGQ"
   },
   "outputs": [],
   "source": [
    "early = tf.keras.callbacks.EarlyStopping(patience = 2, restore_best_weights = True)\n",
    "model_2 = encoder_decoder(score_fun = 'dot', att_units = 512, batch_size = bs, embed_size = 300, lstm_size = 512)\n",
    "opt = tf.keras.optimizers.Adam()\n",
    "model_2.compile(opt, custom_lossfunction)"
   ]
  },
  {
   "cell_type": "code",
   "execution_count": null,
   "metadata": {
    "colab": {
     "base_uri": "https://localhost:8080/"
    },
    "id": "c-mAc99yY7pv",
    "outputId": "3dab039a-6509-478d-d860-813d9649b418",
    "scrolled": true
   },
   "outputs": [
    {
     "name": "stdout",
     "output_type": "stream",
     "text": [
      "Epoch 1/50\n",
      "150/150 [==============================] - 154s 1s/step - loss: 1.8271 - val_loss: 1.6848\n",
      "Epoch 2/50\n",
      "150/150 [==============================] - 151s 1s/step - loss: 1.6447 - val_loss: 1.5838\n",
      "Epoch 3/50\n",
      "150/150 [==============================] - 150s 1000ms/step - loss: 1.5464 - val_loss: 1.5015\n",
      "Epoch 4/50\n",
      "150/150 [==============================] - 155s 1s/step - loss: 1.4549 - val_loss: 1.3822\n",
      "Epoch 5/50\n",
      "150/150 [==============================] - 155s 1s/step - loss: 1.2922 - val_loss: 1.1841\n",
      "Epoch 6/50\n",
      "150/150 [==============================] - 155s 1s/step - loss: 1.0854 - val_loss: 0.9931\n",
      "Epoch 7/50\n",
      "150/150 [==============================] - 155s 1s/step - loss: 0.8962 - val_loss: 0.8233\n",
      "Epoch 8/50\n",
      "150/150 [==============================] - 155s 1s/step - loss: 0.7347 - val_loss: 0.6821\n",
      "Epoch 9/50\n",
      "150/150 [==============================] - 151s 1s/step - loss: 0.5963 - val_loss: 0.5669\n",
      "Epoch 10/50\n",
      "150/150 [==============================] - 152s 1s/step - loss: 0.4868 - val_loss: 0.4776\n",
      "Epoch 11/50\n",
      "150/150 [==============================] - 155s 1s/step - loss: 0.3983 - val_loss: 0.4064\n",
      "Epoch 12/50\n",
      "150/150 [==============================] - 155s 1s/step - loss: 0.3318 - val_loss: 0.3517\n",
      "Epoch 13/50\n",
      "150/150 [==============================] - 155s 1s/step - loss: 0.2733 - val_loss: 0.3148\n",
      "Epoch 14/50\n",
      "150/150 [==============================] - 155s 1s/step - loss: 0.2334 - val_loss: 0.2838\n",
      "Epoch 15/50\n",
      "150/150 [==============================] - 155s 1s/step - loss: 0.2007 - val_loss: 0.2613\n",
      "Epoch 16/50\n",
      "150/150 [==============================] - 151s 1s/step - loss: 0.1758 - val_loss: 0.2435\n",
      "Epoch 17/50\n",
      "150/150 [==============================] - 152s 1s/step - loss: 0.1551 - val_loss: 0.2295\n",
      "Epoch 18/50\n",
      "150/150 [==============================] - 156s 1s/step - loss: 0.1359 - val_loss: 0.2167\n",
      "Epoch 19/50\n",
      "150/150 [==============================] - 152s 1s/step - loss: 0.1208 - val_loss: 0.2076\n",
      "Epoch 20/50\n",
      "150/150 [==============================] - 151s 1s/step - loss: 0.1077 - val_loss: 0.1993\n",
      "Epoch 21/50\n",
      "150/150 [==============================] - 152s 1s/step - loss: 0.0960 - val_loss: 0.1943\n",
      "Epoch 22/50\n",
      "150/150 [==============================] - 152s 1s/step - loss: 0.0880 - val_loss: 0.1894\n",
      "Epoch 23/50\n",
      "150/150 [==============================] - 156s 1s/step - loss: 0.0778 - val_loss: 0.1839\n",
      "Epoch 24/50\n",
      "150/150 [==============================] - 156s 1s/step - loss: 0.0723 - val_loss: 0.1807\n",
      "Epoch 25/50\n",
      "150/150 [==============================] - 153s 1s/step - loss: 0.0647 - val_loss: 0.1791\n",
      "Epoch 26/50\n",
      "150/150 [==============================] - 156s 1s/step - loss: 0.0609 - val_loss: 0.1752\n",
      "Epoch 27/50\n",
      "150/150 [==============================] - 157s 1s/step - loss: 0.0560 - val_loss: 0.1733\n",
      "Epoch 28/50\n",
      "150/150 [==============================] - 154s 1s/step - loss: 0.0517 - val_loss: 0.1725\n",
      "Epoch 29/50\n",
      "150/150 [==============================] - 156s 1s/step - loss: 0.0470 - val_loss: 0.1705\n",
      "Epoch 30/50\n",
      "150/150 [==============================] - 153s 1s/step - loss: 0.0440 - val_loss: 0.1694\n",
      "Epoch 31/50\n",
      "150/150 [==============================] - 155s 1s/step - loss: 0.0393 - val_loss: 0.1687\n",
      "Epoch 32/50\n",
      "150/150 [==============================] - 154s 1s/step - loss: 0.0369 - val_loss: 0.1692\n",
      "Epoch 33/50\n",
      "150/150 [==============================] - 157s 1s/step - loss: 0.0349 - val_loss: 0.1684\n",
      "Epoch 34/50\n",
      "150/150 [==============================] - 157s 1s/step - loss: 0.0326 - val_loss: 0.1680\n",
      "Epoch 35/50\n",
      "150/150 [==============================] - 156s 1s/step - loss: 0.0309 - val_loss: 0.1686\n",
      "Epoch 36/50\n",
      "150/150 [==============================] - 153s 1s/step - loss: 0.0289 - val_loss: 0.1671\n",
      "Epoch 37/50\n",
      "150/150 [==============================] - 153s 1s/step - loss: 0.0272 - val_loss: 0.1692\n",
      "Epoch 38/50\n",
      "150/150 [==============================] - 157s 1s/step - loss: 0.0275 - val_loss: 0.1690\n"
     ]
    },
    {
     "data": {
      "text/plain": [
       "<tensorflow.python.keras.callbacks.History at 0x7f4d38ffcc50>"
      ]
     },
     "execution_count": 66,
     "metadata": {
      "tags": []
     },
     "output_type": "execute_result"
    }
   ],
   "source": [
    "model_2.fit(train_dataloader, steps_per_epoch = 150, epochs = 50, callbacks = [early], validation_steps = 40,\n",
    "            validation_data = test_dataloader)"
   ]
  },
  {
   "cell_type": "code",
   "execution_count": null,
   "metadata": {
    "colab": {
     "base_uri": "https://localhost:8080/",
     "height": 320
    },
    "id": "ySnLSVrtY7pw",
    "outputId": "b0b573c5-375c-4137-9807-e55e47470fcf"
   },
   "outputs": [
    {
     "data": {
      "image/png": "[encoded data removed]",
      "text/plain": [
       "<Figure size 576x360 with 1 Axes>"
      ]
     },
     "metadata": {
      "needs_background": "light",
      "tags": []
     },
     "output_type": "display_data"
    }
   ],
   "source": [
    "plt.figure(figsize = (8,5))\n",
    "plt.plot(np.array(model_2.history.epoch)+1, model_2.history.history['loss'])\n",
    "plt.plot(np.array(model_2.history.epoch)+1, model_2.history.history['val_loss'])\n",
    "plt.show()"
   ]
  },
  {
   "cell_type": "markdown",
   "metadata": {
    "id": "6DpC9zlzMcXp"
   },
   "source": [
    "## <font color='blue'>**Inference**</font>"
   ]
  },
  {
   "cell_type": "markdown",
   "metadata": {
    "id": "Z5NhESYyMW_t"
   },
   "source": [
    "<font color='blue'>**Plot attention weights**</font>"
   ]
  },
  {
   "cell_type": "code",
   "execution_count": null,
   "metadata": {
    "id": "ov51bWy9gQdA"
   },
   "outputs": [],
   "source": [
    "import matplotlib.ticker as ticker"
   ]
  },
  {
   "cell_type": "code",
   "execution_count": null,
   "metadata": {
    "id": "pkEY7SsBMtrC"
   },
   "outputs": [],
   "source": [
    "def plot_attention(attention, sentence, predicted_sentence):\n",
    "  sentence = sentence.split()\n",
    "  predicted_sentence = predicted_sentence.split() + ['[END]']\n",
    "  fig = plt.figure(figsize=(10, 10))\n",
    "  ax = fig.add_subplot(1, 1, 1)\n",
    "  attention = attention[:len(predicted_sentence), :len(sentence), 0]\n",
    "\n",
    "  ax.matshow(attention, cmap='viridis', vmin=0.0)\n",
    "\n",
    "  fontdict = {'fontsize': 14}\n",
    "\n",
    "  ax.set_xticklabels([''] + sentence, fontdict=fontdict, rotation=90)\n",
    "  ax.set_yticklabels([''] + predicted_sentence, fontdict=fontdict)\n",
    "\n",
    "  ax.xaxis.set_major_locator(ticker.MultipleLocator(1))\n",
    "  ax.yaxis.set_major_locator(ticker.MultipleLocator(1))\n",
    "\n",
    "  ax.set_xlabel('Input text')\n",
    "  ax.set_ylabel('Output text')\n",
    "  plt.suptitle('Attention weights')"
   ]
  },
  {
   "cell_type": "markdown",
   "metadata": {
    "id": "e1IhdBrgQYJr"
   },
   "source": [
    "<font color='blue'>**Predict the sentence translation**</font>"
   ]
  },
  {
   "cell_type": "code",
   "execution_count": null,
   "metadata": {
    "id": "MP3kLZoPMvSu"
   },
   "outputs": [],
   "source": [
    "def predict(input_sentence, model, plot = False):\n",
    "    seq = tknizer_ita.texts_to_sequences([input_sentence])\n",
    "    pad = pad_sequences(seq, 20, padding = 'post', truncating = 'post')\n",
    "    state_h, state_c = model.layers[0].initialize_states(1)\n",
    "    enc_out, state_h, state_c = model.layers[0](pad, states = [state_h, state_c])\n",
    "    initial = np.zeros((1,1), dtype = 'float32')\n",
    "    initial[0, 0] = tknizer_eng.word_index['<start>']\n",
    "    word = ''\n",
    "    att = []\n",
    "    for i in range(20):\n",
    "        pred, state_h, state_c, attention_weights, _ = model.layers[1].one_step(initial, enc_out, state_h, state_c)\n",
    "        att.append(attention_weights)\n",
    "        pred = np.argmax(pred)\n",
    "        out = tknizer_eng.index_word[pred]\n",
    "        if out == '<end>':\n",
    "            break\n",
    "        word += out + ' '\n",
    "        initial = np.zeros((1,1))\n",
    "        initial[0, 0] = pred\n",
    "    if plot == True:\n",
    "        plot_attention(np.vstack(att), input_sentence, word)    \n",
    "    return word"
   ]
  },
  {
   "cell_type": "code",
   "execution_count": null,
   "metadata": {
    "colab": {
     "base_uri": "https://localhost:8080/",
     "height": 1000
    },
    "id": "Or-8Tv43Y7px",
    "outputId": "26f16f32-4b61-4759-87db-e52c19c28b98",
    "scrolled": true
   },
   "outputs": [
    {
     "data": {
      "text/html": [
       "<div>\n",
       "<style scoped>\n",
       "    .dataframe tbody tr th:only-of-type {\n",
       "        vertical-align: middle;\n",
       "    }\n",
       "\n",
       "    .dataframe tbody tr th {\n",
       "        vertical-align: top;\n",
       "    }\n",
       "\n",
       "    .dataframe thead th {\n",
       "        text-align: right;\n",
       "    }\n",
       "</style>\n",
       "<table border=\"1\" class=\"dataframe\">\n",
       "  <thead>\n",
       "    <tr style=\"text-align: right;\">\n",
       "      <th></th>\n",
       "      <th>Ground Truth</th>\n",
       "      <th>Input</th>\n",
       "      <th>Predict</th>\n",
       "    </tr>\n",
       "  </thead>\n",
       "  <tbody>\n",
       "    <tr>\n",
       "      <th>0</th>\n",
       "      <td>thank you for the wonderful gift</td>\n",
       "      <td>grazie per il meraviglioso regalo</td>\n",
       "      <td>thank you for the gift</td>\n",
       "    </tr>\n",
       "    <tr>\n",
       "      <th>1</th>\n",
       "      <td>tom is gullible is not he</td>\n",
       "      <td>tom ingenuo vero</td>\n",
       "      <td>tom is naive is not he</td>\n",
       "    </tr>\n",
       "    <tr>\n",
       "      <th>2</th>\n",
       "      <td>why did tom do it</td>\n",
       "      <td>perch tom l ha fatta</td>\n",
       "      <td>why did tom do it</td>\n",
       "    </tr>\n",
       "    <tr>\n",
       "      <th>3</th>\n",
       "      <td>who stole the apples</td>\n",
       "      <td>chi ha rubato le mele</td>\n",
       "      <td>who stole the apples</td>\n",
       "    </tr>\n",
       "    <tr>\n",
       "      <th>4</th>\n",
       "      <td>are you done with your homework</td>\n",
       "      <td>ha finito i suoi compiti</td>\n",
       "      <td>have you finished your homework</td>\n",
       "    </tr>\n",
       "  </tbody>\n",
       "</table>\n",
       "</div>"
      ],
      "text/plain": [
       "                       Ground Truth  ...                           Predict\n",
       "0  thank you for the wonderful gift  ...           thank you for the gift \n",
       "1         tom is gullible is not he  ...           tom is naive is not he \n",
       "2                 why did tom do it  ...                why did tom do it \n",
       "3              who stole the apples  ...             who stole the apples \n",
       "4   are you done with your homework  ...  have you finished your homework \n",
       "\n",
       "[5 rows x 3 columns]"
      ]
     },
     "execution_count": 159,
     "metadata": {
      "tags": []
     },
     "output_type": "execute_result"
    },
    {
     "data": {
      "image/png": "[encoded data removed]",
      "text/plain": [
       "<Figure size 720x720 with 1 Axes>"
      ]
     },
     "metadata": {
      "needs_background": "light",
      "tags": []
     },
     "output_type": "display_data"
    },
    {
     "data": {
      "image/png": "[encoded data removed]",
      "text/plain": [
       "<Figure size 720x720 with 1 Axes>"
      ]
     },
     "metadata": {
      "needs_background": "light",
      "tags": []
     },
     "output_type": "display_data"
    },
    {
     "data": {
      "image/png": "[encoded data removed]",
      "text/plain": [
       "<Figure size 720x720 with 1 Axes>"
      ]
     },
     "metadata": {
      "needs_background": "light",
      "tags": []
     },
     "output_type": "display_data"
    },
    {
     "data": {
      "image/png": "[encoded data removed]",
      "text/plain": [
       "<Figure size 720x720 with 1 Axes>"
      ]
     },
     "metadata": {
      "needs_background": "light",
      "tags": []
     },
     "output_type": "display_data"
    },
    {
     "data": {
      "image/png": "[encoded data removed]",
      "text/plain": [
       "<Figure size 720x720 with 1 Axes>"
      ]
     },
     "metadata": {
      "needs_background": "light",
      "tags": []
     },
     "output_type": "display_data"
    }
   ],
   "source": [
    "df = pd.DataFrame()\n",
    "samples = val.sample(5)\n",
    "X = samples.Italian.values\n",
    "Y = samples.English_inp.values\n",
    "for i in range(5):\n",
    "    pred = predict(X[i], model_2 , plot = True)\n",
    "    df = df.append({'Input': X[i], 'Predict': pred, 'Ground Truth': Y[i][8:]}, ignore_index = True)\n",
    "df"
   ]
  },
  {
   "cell_type": "code",
   "execution_count": null,
   "metadata": {
    "colab": {
     "base_uri": "https://localhost:8080/",
     "height": 436
    },
    "id": "rd3MADQ0Y7px",
    "outputId": "06920aa5-9964-4c22-c4fb-b5e5bd819fdd"
   },
   "outputs": [
    {
     "name": "stderr",
     "output_type": "stream",
     "text": [
      "100%|██████████| 1000/1000 [00:57<00:00, 17.51it/s]\n"
     ]
    },
    {
     "data": {
      "text/html": [
       "<div>\n",
       "<style scoped>\n",
       "    .dataframe tbody tr th:only-of-type {\n",
       "        vertical-align: middle;\n",
       "    }\n",
       "\n",
       "    .dataframe tbody tr th {\n",
       "        vertical-align: top;\n",
       "    }\n",
       "\n",
       "    .dataframe thead th {\n",
       "        text-align: right;\n",
       "    }\n",
       "</style>\n",
       "<table border=\"1\" class=\"dataframe\">\n",
       "  <thead>\n",
       "    <tr style=\"text-align: right;\">\n",
       "      <th></th>\n",
       "      <th>Input</th>\n",
       "      <th>Ground Truth</th>\n",
       "      <th>Predicted</th>\n",
       "      <th>Bleu Score</th>\n",
       "    </tr>\n",
       "  </thead>\n",
       "  <tbody>\n",
       "    <tr>\n",
       "      <th>0</th>\n",
       "      <td>la cosa pi stupida che abbia mai detto</td>\n",
       "      <td>that is the stupidest thing i have ever said</td>\n",
       "      <td>that is the dumbest thing i have ever said</td>\n",
       "      <td>0.596949</td>\n",
       "    </tr>\n",
       "    <tr>\n",
       "      <th>1</th>\n",
       "      <td>per poter fare richiesta dovete andare di persona</td>\n",
       "      <td>in order to apply you have to go in person</td>\n",
       "      <td>in order to apply you have to go in person</td>\n",
       "      <td>1.000000</td>\n",
       "    </tr>\n",
       "    <tr>\n",
       "      <th>2</th>\n",
       "      <td>perch a tom piace lavorare qui</td>\n",
       "      <td>why does tom like working here</td>\n",
       "      <td>why does tom like working here</td>\n",
       "      <td>1.000000</td>\n",
       "    </tr>\n",
       "    <tr>\n",
       "      <th>3</th>\n",
       "      <td>firmate in basso per favore</td>\n",
       "      <td>sign at the bottom please</td>\n",
       "      <td>sign at the bottom please</td>\n",
       "      <td>1.000000</td>\n",
       "    </tr>\n",
       "    <tr>\n",
       "      <th>4</th>\n",
       "      <td>vorrei noleggiare un automobile</td>\n",
       "      <td>i would like to rent a car</td>\n",
       "      <td>i would like to rent a car</td>\n",
       "      <td>1.000000</td>\n",
       "    </tr>\n",
       "    <tr>\n",
       "      <th>...</th>\n",
       "      <td>...</td>\n",
       "      <td>...</td>\n",
       "      <td>...</td>\n",
       "      <td>...</td>\n",
       "    </tr>\n",
       "    <tr>\n",
       "      <th>995</th>\n",
       "      <td>l ho incontrata mentre tornavo a casa</td>\n",
       "      <td>i met her on my way home</td>\n",
       "      <td>i met her on my way home</td>\n",
       "      <td>1.000000</td>\n",
       "    </tr>\n",
       "    <tr>\n",
       "      <th>996</th>\n",
       "      <td>insegna l inglese al suo amico</td>\n",
       "      <td>he teaches english to his friend</td>\n",
       "      <td>he teaches english to his friend</td>\n",
       "      <td>1.000000</td>\n",
       "    </tr>\n",
       "    <tr>\n",
       "      <th>997</th>\n",
       "      <td>mi sento piuttosto al sicuro qui</td>\n",
       "      <td>i feel pretty safe here</td>\n",
       "      <td>i feel pretty safe here</td>\n",
       "      <td>1.000000</td>\n",
       "    </tr>\n",
       "    <tr>\n",
       "      <th>998</th>\n",
       "      <td>torn all hotel</td>\n",
       "      <td>he went back to the hotel</td>\n",
       "      <td>he went back to the hotel</td>\n",
       "      <td>1.000000</td>\n",
       "    </tr>\n",
       "    <tr>\n",
       "      <th>999</th>\n",
       "      <td>tom probabilmente avr successo</td>\n",
       "      <td>tom will probably succeed</td>\n",
       "      <td>tom will probably succeed</td>\n",
       "      <td>1.000000</td>\n",
       "    </tr>\n",
       "  </tbody>\n",
       "</table>\n",
       "<p>1000 rows × 4 columns</p>\n",
       "</div>"
      ],
      "text/plain": [
       "                                                 Input  ... Bleu Score\n",
       "0               la cosa pi stupida che abbia mai detto  ...   0.596949\n",
       "1    per poter fare richiesta dovete andare di persona  ...   1.000000\n",
       "2                       perch a tom piace lavorare qui  ...   1.000000\n",
       "3                          firmate in basso per favore  ...   1.000000\n",
       "4                      vorrei noleggiare un automobile  ...   1.000000\n",
       "..                                                 ...  ...        ...\n",
       "995              l ho incontrata mentre tornavo a casa  ...   1.000000\n",
       "996                     insegna l inglese al suo amico  ...   1.000000\n",
       "997                   mi sento piuttosto al sicuro qui  ...   1.000000\n",
       "998                                     torn all hotel  ...   1.000000\n",
       "999                     tom probabilmente avr successo  ...   1.000000\n",
       "\n",
       "[1000 rows x 4 columns]"
      ]
     },
     "execution_count": 169,
     "metadata": {
      "tags": []
     },
     "output_type": "execute_result"
    }
   ],
   "source": [
    "res = pd.DataFrame()\n",
    "res['Input'] = 0\n",
    "res['Ground Truth'] = 0\n",
    "res['Predicted'] = 0\n",
    "res['Bleu Score'] = 0\n",
    "X = val.Italian.values\n",
    "Y = val.English_inp.values\n",
    "m = np.random.randint(0, len(val), 1000)\n",
    "for n in tqdm(m):\n",
    "    query = X[n]\n",
    "    pred = predict(query, model_2, plot = False)\n",
    "    ground = Y[n]\n",
    "    ground_ = nltk.tokenize.casual.casual_tokenize(ground)\n",
    "    pred_ = nltk.tokenize.casual.casual_tokenize(pred)\n",
    "    bleu = nltk.translate.bleu_score.sentence_bleu([ground_], pred_) \n",
    "    res = res.append({'Input' : query, 'Ground Truth': ground, 'Predicted' : pred, 'Bleu Score' : bleu},ignore_index= True)\n",
    "res"
   ]
  },
  {
   "cell_type": "code",
   "execution_count": null,
   "metadata": {
    "colab": {
     "base_uri": "https://localhost:8080/"
    },
    "id": "lPHM1b_cY7py",
    "outputId": "15b55ecb-b152-4922-aa43-b398516cfd85"
   },
   "outputs": [
    {
     "name": "stdout",
     "output_type": "stream",
     "text": [
      "Average Bleu Score:  0.8572820332782237\n"
     ]
    }
   ],
   "source": [
    "model_2_bleu_score = np.mean(res['Bleu Score'].values)\n",
    "print('Average Bleu Score: ', model_2_bleu_score)"
   ]
  },
  {
   "cell_type": "markdown",
   "metadata": {
    "id": "SWg2ferDQvT3"
   },
   "source": [
    "### <font color='blue'>**Implement custom encoder decoder and attention layers with general mechanism**</font>"
   ]
  },
  {
   "cell_type": "code",
   "execution_count": null,
   "metadata": {
    "id": "4Rh9_w79M5JO"
   },
   "outputs": [],
   "source": [
    "early = tf.keras.callbacks.EarlyStopping(patience = 2, restore_best_weights = True)\n",
    "model_3 = encoder_decoder(score_fun = 'general', att_units = 512, batch_size = bs, embed_size = 300, lstm_size = 512)\n",
    "opt = tf.keras.optimizers.Adam()\n",
    "model_3.compile(opt, custom_lossfunction)"
   ]
  },
  {
   "cell_type": "code",
   "execution_count": null,
   "metadata": {
    "colab": {
     "base_uri": "https://localhost:8080/"
    },
    "id": "mi8FH62pY7py",
    "outputId": "bf86206c-3513-464b-e0a5-e12fbb2901a2",
    "scrolled": false
   },
   "outputs": [
    {
     "name": "stdout",
     "output_type": "stream",
     "text": [
      "Epoch 1/50\n",
      "150/150 [==============================] - 109s 729ms/step - loss: 1.8221 - val_loss: 1.6959\n",
      "Epoch 2/50\n",
      "150/150 [==============================] - 109s 727ms/step - loss: 1.6506 - val_loss: 1.6048\n",
      "Epoch 3/50\n",
      "150/150 [==============================] - 107s 715ms/step - loss: 1.5440 - val_loss: 1.4946\n",
      "Epoch 4/50\n",
      "150/150 [==============================] - 107s 715ms/step - loss: 1.4287 - val_loss: 1.3728\n",
      "Epoch 5/50\n",
      "150/150 [==============================] - 106s 709ms/step - loss: 1.2757 - val_loss: 1.1802\n",
      "Epoch 6/50\n",
      "150/150 [==============================] - 107s 713ms/step - loss: 1.0694 - val_loss: 0.9773\n",
      "Epoch 7/50\n",
      "150/150 [==============================] - 107s 713ms/step - loss: 0.8749 - val_loss: 0.8078\n",
      "Epoch 8/50\n",
      "150/150 [==============================] - 106s 708ms/step - loss: 0.7160 - val_loss: 0.6712\n",
      "Epoch 9/50\n",
      "150/150 [==============================] - 106s 710ms/step - loss: 0.5851 - val_loss: 0.5597\n",
      "Epoch 10/50\n",
      "150/150 [==============================] - 107s 713ms/step - loss: 0.4754 - val_loss: 0.4739\n",
      "Epoch 11/50\n",
      "150/150 [==============================] - 106s 705ms/step - loss: 0.3898 - val_loss: 0.4025\n",
      "Epoch 12/50\n",
      "150/150 [==============================] - 106s 710ms/step - loss: 0.3224 - val_loss: 0.3509\n",
      "Epoch 13/50\n",
      "150/150 [==============================] - 105s 701ms/step - loss: 0.2708 - val_loss: 0.3119\n",
      "Epoch 14/50\n",
      "150/150 [==============================] - 106s 705ms/step - loss: 0.2303 - val_loss: 0.2837\n",
      "Epoch 15/50\n",
      "150/150 [==============================] - 106s 704ms/step - loss: 0.1994 - val_loss: 0.2616\n",
      "Epoch 16/50\n",
      "150/150 [==============================] - 106s 708ms/step - loss: 0.1762 - val_loss: 0.2431\n",
      "Epoch 17/50\n",
      "150/150 [==============================] - 106s 707ms/step - loss: 0.1536 - val_loss: 0.2306\n",
      "Epoch 18/50\n",
      "150/150 [==============================] - 106s 704ms/step - loss: 0.1377 - val_loss: 0.2183\n",
      "Epoch 19/50\n",
      "150/150 [==============================] - 106s 708ms/step - loss: 0.1221 - val_loss: 0.2087\n",
      "Epoch 20/50\n",
      "150/150 [==============================] - 107s 713ms/step - loss: 0.1083 - val_loss: 0.2022\n",
      "Epoch 21/50\n",
      "150/150 [==============================] - 105s 703ms/step - loss: 0.0990 - val_loss: 0.1934\n",
      "Epoch 22/50\n",
      "150/150 [==============================] - 106s 709ms/step - loss: 0.0908 - val_loss: 0.1892\n",
      "Epoch 23/50\n",
      "150/150 [==============================] - 105s 702ms/step - loss: 0.0818 - val_loss: 0.1847\n",
      "Epoch 24/50\n",
      "150/150 [==============================] - 106s 708ms/step - loss: 0.0753 - val_loss: 0.1818\n",
      "Epoch 25/50\n",
      "150/150 [==============================] - 106s 706ms/step - loss: 0.0680 - val_loss: 0.1777\n",
      "Epoch 26/50\n",
      "150/150 [==============================] - 107s 715ms/step - loss: 0.0633 - val_loss: 0.1756\n",
      "Epoch 27/50\n",
      "150/150 [==============================] - 106s 704ms/step - loss: 0.0595 - val_loss: 0.1727\n",
      "Epoch 28/50\n",
      "150/150 [==============================] - 107s 713ms/step - loss: 0.0527 - val_loss: 0.1715\n",
      "Epoch 29/50\n",
      "150/150 [==============================] - 107s 714ms/step - loss: 0.0533 - val_loss: 0.1714\n",
      "Epoch 30/50\n",
      "150/150 [==============================] - 107s 715ms/step - loss: 0.0489 - val_loss: 0.1699\n",
      "Epoch 31/50\n",
      "150/150 [==============================] - 107s 715ms/step - loss: 0.0449 - val_loss: 0.1697\n",
      "Epoch 32/50\n",
      "150/150 [==============================] - 107s 712ms/step - loss: 0.0416 - val_loss: 0.1666\n",
      "Epoch 33/50\n",
      "150/150 [==============================] - 107s 715ms/step - loss: 0.0395 - val_loss: 0.1693\n",
      "Epoch 34/50\n",
      "150/150 [==============================] - 107s 714ms/step - loss: 0.0389 - val_loss: 0.1662\n",
      "Epoch 35/50\n",
      "150/150 [==============================] - 107s 710ms/step - loss: 0.0342 - val_loss: 0.1656\n",
      "Epoch 36/50\n",
      "150/150 [==============================] - 107s 715ms/step - loss: 0.0317 - val_loss: 0.1676\n",
      "Epoch 37/50\n",
      "150/150 [==============================] - 107s 717ms/step - loss: 0.0298 - val_loss: 0.1656\n",
      "Epoch 38/50\n",
      "150/150 [==============================] - 108s 719ms/step - loss: 0.0283 - val_loss: 0.1661\n",
      "Epoch 39/50\n",
      "150/150 [==============================] - 106s 710ms/step - loss: 0.0276 - val_loss: 0.1697\n"
     ]
    },
    {
     "data": {
      "text/plain": [
       "<tensorflow.python.keras.callbacks.History at 0x7fb207f28550>"
      ]
     },
     "execution_count": 21,
     "metadata": {
      "tags": []
     },
     "output_type": "execute_result"
    }
   ],
   "source": [
    "model_3.fit(train_dataloader, steps_per_epoch = 150, epochs = 50, callbacks = [early], validation_steps = 40,\n",
    "            validation_data = test_dataloader)"
   ]
  },
  {
   "cell_type": "code",
   "execution_count": null,
   "metadata": {
    "colab": {
     "base_uri": "https://localhost:8080/",
     "height": 320
    },
    "id": "4E2UNYvOY7pz",
    "outputId": "fb25bd1b-67cd-4525-a563-046eb8efdcba"
   },
   "outputs": [
    {
     "data": {
      "image/png": "[encoded data removed]",
      "text/plain": [
       "<Figure size 576x360 with 1 Axes>"
      ]
     },
     "metadata": {
      "needs_background": "light",
      "tags": []
     },
     "output_type": "display_data"
    }
   ],
   "source": [
    "plt.figure(figsize = (8,5))\n",
    "plt.plot(np.array(model_3.history.epoch)+1, model_3.history.history['loss'])\n",
    "plt.plot(np.array(model_3.history.epoch)+1, model_3.history.history['val_loss'])\n",
    "plt.show()"
   ]
  },
  {
   "cell_type": "code",
   "execution_count": null,
   "metadata": {
    "colab": {
     "base_uri": "https://localhost:8080/",
     "height": 1000
    },
    "id": "RBCWzXuhY7pz",
    "outputId": "8a722916-367e-4a65-a344-c47a971fc6b3",
    "scrolled": false
   },
   "outputs": [
    {
     "data": {
      "text/html": [
       "<div>\n",
       "<style scoped>\n",
       "    .dataframe tbody tr th:only-of-type {\n",
       "        vertical-align: middle;\n",
       "    }\n",
       "\n",
       "    .dataframe tbody tr th {\n",
       "        vertical-align: top;\n",
       "    }\n",
       "\n",
       "    .dataframe thead th {\n",
       "        text-align: right;\n",
       "    }\n",
       "</style>\n",
       "<table border=\"1\" class=\"dataframe\">\n",
       "  <thead>\n",
       "    <tr style=\"text-align: right;\">\n",
       "      <th></th>\n",
       "      <th>Ground Truth</th>\n",
       "      <th>Input</th>\n",
       "      <th>Predict</th>\n",
       "    </tr>\n",
       "  </thead>\n",
       "  <tbody>\n",
       "    <tr>\n",
       "      <th>0</th>\n",
       "      <td>tom sat on the curb</td>\n",
       "      <td>tom sedeva sul bordo del marciapiede</td>\n",
       "      <td>tom sat on the edge of the sidewalk</td>\n",
       "    </tr>\n",
       "    <tr>\n",
       "      <th>1</th>\n",
       "      <td>the child pointed out her mother to me</td>\n",
       "      <td>il bambino mi ha indicato sua mandre</td>\n",
       "      <td>the child pointed to me her</td>\n",
       "    </tr>\n",
       "    <tr>\n",
       "      <th>2</th>\n",
       "      <td>it smells like a trap</td>\n",
       "      <td>odora di trappola</td>\n",
       "      <td>it smells like that</td>\n",
       "    </tr>\n",
       "    <tr>\n",
       "      <th>3</th>\n",
       "      <td>i do not have any real choice</td>\n",
       "      <td>io non ho alcuna vera scelta</td>\n",
       "      <td>i have no real choice</td>\n",
       "    </tr>\n",
       "    <tr>\n",
       "      <th>4</th>\n",
       "      <td>we were just studying</td>\n",
       "      <td>noi stavamo solo studiando</td>\n",
       "      <td>we were just studying</td>\n",
       "    </tr>\n",
       "  </tbody>\n",
       "</table>\n",
       "</div>"
      ],
      "text/plain": [
       "                             Ground Truth  ...                               Predict\n",
       "0                     tom sat on the curb  ...  tom sat on the edge of the sidewalk \n",
       "1  the child pointed out her mother to me  ...          the child pointed to me her \n",
       "2                   it smells like a trap  ...                  it smells like that \n",
       "3           i do not have any real choice  ...                i have no real choice \n",
       "4                   we were just studying  ...                we were just studying \n",
       "\n",
       "[5 rows x 3 columns]"
      ]
     },
     "execution_count": 27,
     "metadata": {
      "tags": []
     },
     "output_type": "execute_result"
    },
    {
     "data": {
      "image/png": "[encoded data removed]",
      "text/plain": [
       "<Figure size 720x720 with 1 Axes>"
      ]
     },
     "metadata": {
      "needs_background": "light",
      "tags": []
     },
     "output_type": "display_data"
    },
    {
     "data": {
      "image/png": "[encoded data removed]",
      "text/plain": [
       "<Figure size 720x720 with 1 Axes>"
      ]
     },
     "metadata": {
      "needs_background": "light",
      "tags": []
     },
     "output_type": "display_data"
    },
    {
     "data": {
      "image/png": "[encoded data removed]",
      "text/plain": [
       "<Figure size 720x720 with 1 Axes>"
      ]
     },
     "metadata": {
      "needs_background": "light",
      "tags": []
     },
     "output_type": "display_data"
    },
    {
     "data": {
      "image/png": "[encoded data removed]",
      "text/plain": [
       "<Figure size 720x720 with 1 Axes>"
      ]
     },
     "metadata": {
      "needs_background": "light",
      "tags": []
     },
     "output_type": "display_data"
    },
    {
     "data": {
      "image/png": "[encoded data removed]",
      "text/plain": [
       "<Figure size 720x720 with 1 Axes>"
      ]
     },
     "metadata": {
      "needs_background": "light",
      "tags": []
     },
     "output_type": "display_data"
    }
   ],
   "source": [
    "df = pd.DataFrame()\n",
    "samples = val.sample(5)\n",
    "X = samples.Italian.values\n",
    "Y = samples.English_inp.values\n",
    "for i in range(5):\n",
    "    pred = predict(X[i], model_3 , plot = True)\n",
    "    df = df.append({'Input': X[i], 'Predict': pred, 'Ground Truth': Y[i][8:]}, ignore_index = True)\n",
    "df"
   ]
  },
  {
   "cell_type": "code",
   "execution_count": null,
   "metadata": {
    "colab": {
     "base_uri": "https://localhost:8080/",
     "height": 436
    },
    "id": "a3HwCYQkY7pz",
    "outputId": "a0161a16-e948-4751-e394-526c56008bbd",
    "scrolled": false
   },
   "outputs": [
    {
     "name": "stderr",
     "output_type": "stream",
     "text": [
      "100%|██████████| 1000/1000 [01:06<00:00, 14.93it/s]\n"
     ]
    },
    {
     "data": {
      "text/html": [
       "<div>\n",
       "<style scoped>\n",
       "    .dataframe tbody tr th:only-of-type {\n",
       "        vertical-align: middle;\n",
       "    }\n",
       "\n",
       "    .dataframe tbody tr th {\n",
       "        vertical-align: top;\n",
       "    }\n",
       "\n",
       "    .dataframe thead th {\n",
       "        text-align: right;\n",
       "    }\n",
       "</style>\n",
       "<table border=\"1\" class=\"dataframe\">\n",
       "  <thead>\n",
       "    <tr style=\"text-align: right;\">\n",
       "      <th></th>\n",
       "      <th>Input</th>\n",
       "      <th>Ground Truth</th>\n",
       "      <th>Predicted</th>\n",
       "      <th>Bleu Score</th>\n",
       "    </tr>\n",
       "  </thead>\n",
       "  <tbody>\n",
       "    <tr>\n",
       "      <th>0</th>\n",
       "      <td>questo non abbastanza</td>\n",
       "      <td>this is not enough</td>\n",
       "      <td>this is not enough</td>\n",
       "      <td>1.000000</td>\n",
       "    </tr>\n",
       "    <tr>\n",
       "      <th>1</th>\n",
       "      <td>sono molto alta</td>\n",
       "      <td>i am very tall</td>\n",
       "      <td>i am very tall</td>\n",
       "      <td>1.000000</td>\n",
       "    </tr>\n",
       "    <tr>\n",
       "      <th>2</th>\n",
       "      <td>ehi vi stavo per chiamare</td>\n",
       "      <td>hey i was going to call you</td>\n",
       "      <td>hey i was going to call you</td>\n",
       "      <td>1.000000</td>\n",
       "    </tr>\n",
       "    <tr>\n",
       "      <th>3</th>\n",
       "      <td>non mi piace per niente il poker</td>\n",
       "      <td>i do not like poker at all</td>\n",
       "      <td>i do not like poker at all</td>\n",
       "      <td>1.000000</td>\n",
       "    </tr>\n",
       "    <tr>\n",
       "      <th>4</th>\n",
       "      <td>sta accadendo qualcosa</td>\n",
       "      <td>there is something going on</td>\n",
       "      <td>is there anything happening</td>\n",
       "      <td>0.654891</td>\n",
       "    </tr>\n",
       "    <tr>\n",
       "      <th>...</th>\n",
       "      <td>...</td>\n",
       "      <td>...</td>\n",
       "      <td>...</td>\n",
       "      <td>...</td>\n",
       "    </tr>\n",
       "    <tr>\n",
       "      <th>995</th>\n",
       "      <td>ci sono abituata ora</td>\n",
       "      <td>i am used to it now</td>\n",
       "      <td>i am used to it now</td>\n",
       "      <td>1.000000</td>\n",
       "    </tr>\n",
       "    <tr>\n",
       "      <th>996</th>\n",
       "      <td>potreste farmi un favore</td>\n",
       "      <td>could you do me a favor</td>\n",
       "      <td>could you do me a favor</td>\n",
       "      <td>1.000000</td>\n",
       "    </tr>\n",
       "    <tr>\n",
       "      <th>997</th>\n",
       "      <td>ero infastidito dalla pigrizia del ragazzo</td>\n",
       "      <td>i was annoyed with the boy for being lazy</td>\n",
       "      <td>i was annoyed with the boy for being lazy</td>\n",
       "      <td>1.000000</td>\n",
       "    </tr>\n",
       "    <tr>\n",
       "      <th>998</th>\n",
       "      <td>io odiavo gli spinaci</td>\n",
       "      <td>i used to hate spinach</td>\n",
       "      <td>i hated spinach</td>\n",
       "      <td>0.463925</td>\n",
       "    </tr>\n",
       "    <tr>\n",
       "      <th>999</th>\n",
       "      <td>abita nei dintorni</td>\n",
       "      <td>she lives nearby</td>\n",
       "      <td>she lives nearby</td>\n",
       "      <td>1.000000</td>\n",
       "    </tr>\n",
       "  </tbody>\n",
       "</table>\n",
       "<p>1000 rows × 4 columns</p>\n",
       "</div>"
      ],
      "text/plain": [
       "                                          Input  ... Bleu Score\n",
       "0                         questo non abbastanza  ...   1.000000\n",
       "1                               sono molto alta  ...   1.000000\n",
       "2                     ehi vi stavo per chiamare  ...   1.000000\n",
       "3              non mi piace per niente il poker  ...   1.000000\n",
       "4                        sta accadendo qualcosa  ...   0.654891\n",
       "..                                          ...  ...        ...\n",
       "995                        ci sono abituata ora  ...   1.000000\n",
       "996                    potreste farmi un favore  ...   1.000000\n",
       "997  ero infastidito dalla pigrizia del ragazzo  ...   1.000000\n",
       "998                       io odiavo gli spinaci  ...   0.463925\n",
       "999                          abita nei dintorni  ...   1.000000\n",
       "\n",
       "[1000 rows x 4 columns]"
      ]
     },
     "execution_count": 28,
     "metadata": {
      "tags": []
     },
     "output_type": "execute_result"
    }
   ],
   "source": [
    "res = pd.DataFrame()\n",
    "res['Input'] = 0\n",
    "res['Ground Truth'] = 0\n",
    "res['Predicted'] = 0\n",
    "res['Bleu Score'] = 0\n",
    "X = val.Italian.values\n",
    "Y = val.English_inp.values\n",
    "m = np.random.randint(0, len(val), 1000)\n",
    "for n in tqdm(m):\n",
    "    query = X[n]\n",
    "    pred = predict(query, model_3, plot = False)\n",
    "    ground = Y[n]\n",
    "    ground_ = nltk.tokenize.casual.casual_tokenize(ground)\n",
    "    pred_ = nltk.tokenize.casual.casual_tokenize(pred)\n",
    "    bleu = nltk.translate.bleu_score.sentence_bleu([ground_], pred_) \n",
    "    res = res.append({'Input' : query, 'Ground Truth': ground, 'Predicted' : pred, 'Bleu Score' : bleu},ignore_index= True)\n",
    "res"
   ]
  },
  {
   "cell_type": "code",
   "execution_count": null,
   "metadata": {
    "colab": {
     "base_uri": "https://localhost:8080/"
    },
    "id": "vNha_ypVY7p0",
    "outputId": "1b64b823-1764-4bea-b7d0-e770c29bbf33"
   },
   "outputs": [
    {
     "name": "stdout",
     "output_type": "stream",
     "text": [
      "Average Bleu Score:  0.8574501796666246\n"
     ]
    }
   ],
   "source": [
    "model_3_bleu_score = np.mean(res['Bleu Score'].values)\n",
    "print('Average Bleu Score: ', model_3_bleu_score)"
   ]
  },
  {
   "cell_type": "code",
   "execution_count": null,
   "metadata": {},
   "outputs": [],
   "source": []
  }
 ],
 "metadata": {
  "accelerator": "GPU",
  "colab": {
   "collapsed_sections": [],
   "machine_shape": "hm",
   "name": "Seq2SeqImplementation__Assignment_final.ipynb",
   "provenance": []
  },
  "kernelspec": {
   "display_name": "Python 3",
   "language": "python",
   "name": "python3"
  },
  "language_info": {
   "codemirror_mode": {
    "name": "ipython",
    "version": 3
   },
   "file_extension": ".py",
   "mimetype": "text/x-python",
   "name": "python",
   "nbconvert_exporter": "python",
   "pygments_lexer": "ipython3",
   "version": "3.6.5"
  }
 },
 "nbformat": 4,
 "nbformat_minor": 1
}
